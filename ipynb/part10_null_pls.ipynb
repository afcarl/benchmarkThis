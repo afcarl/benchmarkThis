{
 "cells": [
  {
   "cell_type": "code",
   "execution_count": 11,
   "metadata": {},
   "outputs": [
    {
     "name": "stdout",
     "output_type": "stream",
     "text": [
      "Darwin-15.6.0-x86_64-i386-64bit\n",
      "Python 3.5.3 |Continuum Analytics, Inc.| (default, Mar  6 2017, 12:15:08) \n",
      "[GCC 4.2.1 Compatible Apple LLVM 6.0 (clang-600.0.57)]\n",
      "NumPy 1.13.0\n",
      "SciPy 0.19.0\n",
      "Scikit-Learn 0.18.1\n"
     ]
    }
   ],
   "source": [
    "import pandas as pd\n",
    "import matplotlib.pyplot as plt\n",
    "import numpy as np\n",
    "from skbio import TreeNode\n",
    "import seaborn as sns\n",
    "%matplotlib inline\n",
    "sns.set_style('ticks')\n",
    "\n",
    "import platform; print(platform.platform())\n",
    "import sys; print(\"Python\", sys.version)\n",
    "import numpy; print(\"NumPy\", numpy.__version__)\n",
    "import scipy; print(\"SciPy\", scipy.__version__)\n",
    "import sklearn; print(\"Scikit-Learn\", sklearn.__version__)"
   ]
  },
  {
   "cell_type": "code",
   "execution_count": 2,
   "metadata": {
    "collapsed": true
   },
   "outputs": [],
   "source": [
    "from src.sim import chain_interactions\n",
    "gradient = np.linspace(0, 50, 100)"
   ]
  },
  {
   "cell_type": "code",
   "execution_count": 3,
   "metadata": {},
   "outputs": [
    {
     "data": {
      "text/plain": [
       "<matplotlib.text.Text at 0x10d541978>"
      ]
     },
     "execution_count": 3,
     "metadata": {},
     "output_type": "execute_result"
    },
    {
     "data": {
      "image/png": "[encoded data removed]",
      "text/plain": [
       "<matplotlib.figure.Figure at 0x10d4a6898>"
      ]
     },
     "metadata": {},
     "output_type": "display_data"
    }
   ],
   "source": [
    "from scipy.stats import expon\n",
    "from skbio.stats.composition import closure\n",
    "\n",
    "x = np.linspace(0, 11, 100)\n",
    "contaminant_urn = closure(expon.pdf(x))\n",
    "plt.plot(contaminant_urn)\n",
    "plt.xlabel('Species')\n",
    "plt.ylabel('Proportion')"
   ]
  },
  {
   "cell_type": "code",
   "execution_count": 4,
   "metadata": {
    "collapsed": true
   },
   "outputs": [],
   "source": [
    "contaminant_urns = np.repeat(np.expand_dims(contaminant_urn, axis=0),\n",
    "                             len(gradient), axis=0)\n",
    "microbial_table = closure(contaminant_urns)"
   ]
  },
  {
   "cell_type": "code",
   "execution_count": 5,
   "metadata": {
    "collapsed": true
   },
   "outputs": [],
   "source": [
    "from skbio.stats.composition import closure\n",
    "from src.sim import compositional_noise\n",
    "from numpy.random import RandomState\n",
    "from skbio.stats.composition import perturb\n",
    "\n",
    "# force closure to 1\n",
    "microbial_table = closure(microbial_table)\n",
    "rng = RandomState(0)\n",
    "cov = np.eye(microbial_table.shape[1]-1)\n",
    "\n",
    "# add compositional nose\n",
    "m_noise = compositional_noise(cov, nsamp=len(gradient), rng=rng)\n",
    "microbial_table = np.vstack([\n",
    "    perturb(microbial_table[i, :], m_noise[i, :])\n",
    "    for i in range(len(gradient))])"
   ]
  },
  {
   "cell_type": "code",
   "execution_count": 6,
   "metadata": {
    "collapsed": true
   },
   "outputs": [],
   "source": [
    "from src.sim import multinomial_sample\n",
    "microbial_table = multinomial_sample(microbial_table, lam=10000)"
   ]
  },
  {
   "cell_type": "code",
   "execution_count": 7,
   "metadata": {},
   "outputs": [
    {
     "data": {
      "text/plain": [
       "<matplotlib.text.Text at 0x1108fab38>"
      ]
     },
     "execution_count": 7,
     "metadata": {},
     "output_type": "execute_result"
    },
    {
     "data": {
      "image/png": "[encoded data removed]",
      "text/plain": [
       "<matplotlib.figure.Figure at 0x110853f60>"
      ]
     },
     "metadata": {},
     "output_type": "display_data"
    }
   ],
   "source": [
    "plt.imshow(microbial_table>0, aspect='auto', interpolation='nearest')\n",
    "plt.xlabel('Species')\n",
    "plt.ylabel('Samples')"
   ]
  },
  {
   "cell_type": "code",
   "execution_count": 8,
   "metadata": {
    "collapsed": true
   },
   "outputs": [],
   "source": [
    "sample_ids = [\"S%d\" % i for i in range(microbial_table.shape[0])]\n",
    "microbial_table = pd.DataFrame(microbial_table, index=sample_ids)\n",
    "intercept = np.array([0] * len(gradient))\n",
    "group = np.array([0]*(len(gradient)//2) + [1]*(len(gradient)//2))\n",
    "rd = np.random.randint(0, 2, size=len(gradient))\n",
    "metadata = pd.DataFrame({'Intercept': intercept,\n",
    "                         'Group': rd,\n",
    "                         'Gradient': gradient}, index=sample_ids)"
   ]
  },
  {
   "cell_type": "code",
   "execution_count": 9,
   "metadata": {},
   "outputs": [
    {
     "data": {
      "text/plain": [
       "PLSRegression(copy=True, max_iter=500, n_components=2, scale=True, tol=1e-06)"
      ]
     },
     "execution_count": 9,
     "metadata": {},
     "output_type": "execute_result"
    }
   ],
   "source": [
    "from sklearn.cross_decomposition import PLSRegression\n",
    "from skbio.stats.composition import clr, centralize, multiplicative_replacement\n",
    "\n",
    "ctable = pd.DataFrame(microbial_table+1,\n",
    "                      index=microbial_table.index, \n",
    "                      columns=microbial_table.columns)\n",
    "ctable = pd.DataFrame(clr(centralize(microbial_table+1)),\n",
    "                      index=microbial_table.index, \n",
    "                      columns=microbial_table.columns)\n",
    "\n",
    "rfc = PLSRegression(n_components=2)\n",
    "rfc.fit(X=ctable.values, Y=metadata.Group)"
   ]
  },
  {
   "cell_type": "code",
   "execution_count": 10,
   "metadata": {},
   "outputs": [
    {
     "data": {
      "text/plain": [
       "<matplotlib.legend.Legend at 0x111d3f978>"
      ]
     },
     "execution_count": 10,
     "metadata": {},
     "output_type": "execute_result"
    },
    {
     "data": {
      "image/png": "[encoded data removed]",
      "text/plain": [
       "<matplotlib.figure.Figure at 0x111c5d8d0>"
      ]
     },
     "metadata": {},
     "output_type": "display_data"
    }
   ],
   "source": [
    "midx = metadata.Group==0\n",
    "lidx = metadata.Group==1\n",
    "plt.plot(rfc.x_scores_[midx, 0], rfc.x_scores_[midx, 1], 'og', label='group0')\n",
    "plt.plot(rfc.x_scores_[lidx, 0], rfc.x_scores_[lidx, 1], 'ob', label='group1')\n",
    "plt.xlabel('PLS1')\n",
    "plt.ylabel('PLS2')\n",
    "plt.legend()"
   ]
  }
 ],
 "metadata": {
  "kernelspec": {
   "display_name": "Python 3",
   "language": "python",
   "name": "python3"
  },
  "language_info": {
   "codemirror_mode": {
    "name": "ipython",
    "version": 3
   },
   "file_extension": ".py",
   "mimetype": "text/x-python",
   "name": "python",
   "nbconvert_exporter": "python",
   "pygments_lexer": "ipython3",
   "version": "3.5.3"
  }
 },
 "nbformat": 4,
 "nbformat_minor": 2
}
