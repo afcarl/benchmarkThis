{
 "cells": [
  {
   "cell_type": "markdown",
   "metadata": {},
   "source": [
    "\n",
    "# Theorem : Observed environments cannot yield inferences on events on original environments.\n",
    "\n",
    "Say we can represent all possible environments with $D$ species in a space $U$ as follows. \n",
    "<img src=\"images/environment_elements.png\">\n",
    "\n",
    "So the environment at each time point we showed above is now an element of this space.  Note that $U$ is as large as $\\mathbb{R}^D$.  In other words, if $\\mathbb{R}^D$ has $K$ elements, then $U$ has exactly $K$ elements that map one to one to elements in $\\mathbb{R}^D$.\n",
    "\n",
    "Now let's define a function $f$ that allows us to describe the change between time points.  In this particular illustration, $f$ is a function that doubles Species 1 while keeping all of the other species the same.\n",
    "\n",
    "<img src=\"images/environment_mappings.png\">\n",
    "\n",
    "Important note there is exactly 1 function that can describe the change between a given pair of environments. More formally, all functions \n",
    "\n",
    "$f: U \\rightarrow U$ \n",
    "\n",
    "are unique.  In lay mans terms, there is only 1 event that can explain the change in the original environment.\n",
    "\n",
    "Now since all of these functions are unique, that means that there are $|U| \\times |U| = K \\times K$ possible functions.  This is because every element in $U$ can map to any other element in $U$.\n",
    "\n",
    "Alright, now we that have formally defined events that can change environments, let's now define observed environments.\n",
    "\n",
    "Since we can only observe subsets, compositional equilvalance will need to be imposed.\n",
    "Let $C$ be a mapping\n",
    "\n",
    "$$\n",
    "C(x) = \\Bigg[ \\frac{x_1}{\\sum\\limits_{i=0}^{D} x_i} \\ldots \\frac{x_D}{\\sum\\limits_{i=0}^{D} x_i} \\Bigg]\n",
    "$$\n",
    "\n",
    "This function will map absolute abundances to proportions.  And these proportions live within the probability simplex."
   ]
  },
  {
   "cell_type": "markdown",
   "metadata": {},
   "source": [
    "# Lemma  |C(U)| < |U|\n",
    "\n",
    "We know a few properties about $C(U)$.  We know that $C(U) \\cong \\bar{S^D}$ where $S^D$ is the Aitchison open simplex.  We also know that $S^D$ is isomorphic to $\\mathbb{R}^{D-1}$.\n",
    "\n",
    "Since there is a finite number of faces, and the highest dimension of a face is $D-1$, that means that the total number of points on all of the faces cannot exceed $g \\times \\mathbb{R}^{D-1}$, where $g$ is the number faces on the simplex.\n",
    "\n",
    "This means that $|C(U)|=|\\bar{S^D}| <  |\\mathbb{R}^{D-1}| + |\\mathbb{R}^{D-1}| < |\\mathbb{R}^{D}|=|U|$"
   ]
  },
  {
   "cell_type": "markdown",
   "metadata": {},
   "source": [
    "__Continuing the theorem before__\n",
    "\n",
    "Since we can only observe $C(U)$, that means that there are $|C(U)| \\times |C(U)|$ possible mappings $c \\circ f$.\n",
    "Remember $|C(U)| < |U|$, so $|c \\circ f ( U \\times U)| < |f(U \\times U)|$.  This means that there cannot exist a bijection from $|c \\circ f ( U \\times U)|$ to $f(U \\times U)$.  By pigeon-holing, functions in $f(U \\times U)$ will map non-uniquely to functions in $c \\circ f ( U \\times U)$. QED"
   ]
  },
  {
   "cell_type": "markdown",
   "metadata": {},
   "source": [
    "In essence, we cannot directly infer specific changes to total species abundances in the original environment if we do not have information about the total abundances in the true environment.  Therefore, we cannot infer exactly which species changed."
   ]
  },
  {
   "cell_type": "markdown",
   "metadata": {
    "collapsed": true
   },
   "source": [
    "__TL;DR__\n",
    "\n",
    "The number of observed events is much less than the number of events that could happen in the original environment.\n",
    "So multiple events in the original environment can explain the same change of proportions in the observed environment."
   ]
  },
  {
   "cell_type": "code",
   "execution_count": null,
   "metadata": {
    "collapsed": true
   },
   "outputs": [],
   "source": []
  }
 ],
 "metadata": {
  "kernelspec": {
   "display_name": "Python 3",
   "language": "python",
   "name": "python3"
  },
  "language_info": {
   "codemirror_mode": {
    "name": "ipython",
    "version": 3
   },
   "file_extension": ".py",
   "mimetype": "text/x-python",
   "name": "python",
   "nbconvert_exporter": "python",
   "pygments_lexer": "ipython3",
   "version": "3.5.2"
  }
 },
 "nbformat": 4,
 "nbformat_minor": 0
}
