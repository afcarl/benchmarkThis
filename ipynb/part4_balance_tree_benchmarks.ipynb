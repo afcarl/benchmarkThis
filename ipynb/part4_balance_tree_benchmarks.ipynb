{
 "cells": [
  {
   "cell_type": "code",
   "execution_count": 1,
   "metadata": {
    "collapsed": false
   },
   "outputs": [
    {
     "name": "stderr",
     "output_type": "stream",
     "text": [
      "/Users/mortonjt/miniconda3/envs/bio/lib/python3.5/site-packages/IPython/html.py:14: ShimWarning: The `IPython.html` package has been deprecated. You should import from `notebook` instead. `IPython.html.widgets` has moved to `ipywidgets`.\n",
      "  \"`IPython.html.widgets` has moved to `ipywidgets`.\", ShimWarning)\n"
     ]
    }
   ],
   "source": [
    "import matplotlib.pyplot as plt\n",
    "import numpy as np\n",
    "import pandas as pd\n",
    "import scipy\n",
    "import seaborn as sns\n",
    "from skbio.stats.composition import closure, ilr, inner, _gram_schmidt_basis  # normalizes samples to add to 1.\n",
    "from skbio import TreeNode, DistanceMatrix\n",
    "from scipy.cluster.hierarchy import average\n",
    "from gneiss.balances import balanceplot, balance_basis\n",
    "from ete3 import Tree\n",
    "%matplotlib inline"
   ]
  },
  {
   "cell_type": "markdown",
   "metadata": {},
   "source": [
    "We'll start off using balance trees on the false positive data sets that we simulated previously in `part3_differential_abundance_benchmarks.ipynb`\n"
   ]
  },
  {
   "cell_type": "code",
   "execution_count": 2,
   "metadata": {
    "collapsed": true
   },
   "outputs": [],
   "source": [
    "D = 1000   # number of species\n",
    "S = 10     # number of different samples\n",
    "N = 10000  # sequencing depth\n",
    "R = 30     # number of replicates\n",
    "otu_ids = [\"O%d\"%i for i in range(D)]\n",
    "sample_ids = [\"S%d\"%i for i in range(S)]\n",
    "data = [[1000]*D]\n",
    "for a in np.logspace(0, 5, S-1):\n",
    "    data.append([1000*a] + [1000]*(D-1))\n",
    "table = pd.DataFrame(data, columns=otu_ids, index=sample_ids)"
   ]
  },
  {
   "cell_type": "markdown",
   "metadata": {},
   "source": [
    "In this particular scenario, we want to have a tree that can represent the balance between the very first species and the other species. To this, we will represent the balances using a tree.  This tree will be generated using UPGMA, using a reciprocal differences."
   ]
  },
  {
   "cell_type": "code",
   "execution_count": 3,
   "metadata": {
    "collapsed": false
   },
   "outputs": [],
   "source": [
    "# The distance metric\n",
    "d_metric = lambda x, y: ((1. / (x+1)) - (1. / (y+1)))**2\n",
    "ranks = pd.Series(range(D), index=otu_ids) \n",
    "\n",
    "# Build distance matrix\n",
    "dm = DistanceMatrix.from_iterable(ranks.values, metric=d_metric)\n",
    "dm.ids = otu_ids\n",
    "\n",
    "# Generate hierarchical clustering\n",
    "lm = average(dm.condensed_form())\n",
    "\n",
    "# build tree from clustering\n",
    "tree = TreeNode.from_linkage_matrix(lm, otu_ids)\n",
    "\n",
    "# estimate the balanace basis\n",
    "basis, nodes = balance_basis(tree) "
   ]
  },
  {
   "cell_type": "markdown",
   "metadata": {
    "collapsed": false
   },
   "source": [
    "Now, we will be running the same simulations as the previous notebook.  But instead of testing the individual\n",
    "the individual proportions, we'll be testing the individual balances.  And we'll be testing for number of significant balances.  In essence, there should only be 1 significant balance - `O0` versus all of the other species."
   ]
  },
  {
   "cell_type": "code",
   "execution_count": 4,
   "metadata": {
    "collapsed": false
   },
   "outputs": [],
   "source": [
    "fdr = [] \n",
    "for i in range(1, S):\n",
    "    sample1 = np.random.multinomial(N, closure(table.iloc[0, :].values), size=R)\n",
    "    sample2 = np.random.multinomial(N, closure(table.iloc[i, :].values), size=R)\n",
    "    ilr_sample1 = ilr(sample1+1, basis=basis)\n",
    "    ilr_sample2 = ilr(sample2+1, basis=basis)\n",
    "    t, p = scipy.stats.ttest_ind(ilr_sample1, ilr_sample2)\n",
    "    fdr.append((p<0.05).sum())"
   ]
  },
  {
   "cell_type": "code",
   "execution_count": 5,
   "metadata": {
    "collapsed": false
   },
   "outputs": [
    {
     "data": {
      "text/plain": [
       "<matplotlib.text.Text at 0x112404da0>"
      ]
     },
     "execution_count": 5,
     "metadata": {},
     "output_type": "execute_result"
    },
    {
     "data": {
      "image/png": "[encoded data removed]",
      "text/plain": [
       "<matplotlib.figure.Figure at 0x10f290b00>"
      ]
     },
     "metadata": {},
     "output_type": "display_data"
    }
   ],
   "source": [
    "fig = plt.figure(figsize=(5, 5))\n",
    "x = range(i)\n",
    "plt.scatter(x, fdr)\n",
    "labels = np.logspace(0, 5, S-1)\n",
    "labels = [\"%.2f\" % a for a in labels]\n",
    "_ = plt.xticks(x, labels, rotation=90)\n",
    "plt.ylabel('Number of Balances with p-value < 0.05')\n",
    "plt.xlabel('Fold change in species 1')\n",
    "plt.title('Balance T test FDR for 1 changing species')"
   ]
  },
  {
   "cell_type": "markdown",
   "metadata": {},
   "source": [
    "From here, it is apparent that we have more than 1 significant balance.  But this is much more sane compared to the benchmark in the previous notebook.  The number of significant species has leveled off around 50-60 species.\n",
    "\n",
    "In this benchmark, we were using some prior knowledge that `O0` grouped differently from all of the other balances.  Let's see what happens if we use the default topology provided in `skbio.stats.composition.ilr`"
   ]
  },
  {
   "cell_type": "code",
   "execution_count": 6,
   "metadata": {
    "collapsed": false
   },
   "outputs": [],
   "source": [
    "fdr = [] \n",
    "for i in range(1, S):\n",
    "    sample1 = np.random.multinomial(N, closure(table.iloc[0, :].values), size=R)\n",
    "    sample2 = np.random.multinomial(N, closure(table.iloc[i, :].values), size=R)\n",
    "    ilr_sample1 = ilr(sample1+1)\n",
    "    ilr_sample2 = ilr(sample2+1)\n",
    "    t, p = scipy.stats.ttest_ind(ilr_sample1, ilr_sample2)\n",
    "    fdr.append((p<0.05).sum())"
   ]
  },
  {
   "cell_type": "code",
   "execution_count": 7,
   "metadata": {
    "collapsed": false
   },
   "outputs": [
    {
     "data": {
      "text/plain": [
       "<matplotlib.text.Text at 0x11252d3c8>"
      ]
     },
     "execution_count": 7,
     "metadata": {},
     "output_type": "execute_result"
    },
    {
     "data": {
      "image/png": "[encoded data removed]",
      "text/plain": [
       "<matplotlib.figure.Figure at 0x112498d68>"
      ]
     },
     "metadata": {},
     "output_type": "display_data"
    }
   ],
   "source": [
    "fig = plt.figure(figsize=(5, 5))\n",
    "x = range(i)\n",
    "plt.scatter(x, fdr)\n",
    "labels = np.logspace(0, 5, S-1)\n",
    "labels = [\"%.2f\" % a for a in labels]\n",
    "_ = plt.xticks(x, labels, rotation=90)\n",
    "plt.ylabel('Number of Balances with p-value < 0.05')\n",
    "plt.xlabel('Fold change in species 1')\n",
    "plt.title('Balance T test FDR for 1 changing species')"
   ]
  },
  {
   "cell_type": "markdown",
   "metadata": {},
   "source": [
    "So here, we have a trend that is linear with respect to the fold change in species 1.  While at first glance, this may appear to be wrong, it actually makes sense.\n",
    "\n",
    "The default topology in `skbio.stats.composition.ilr` is actually the reversed tree that was calculated in the first step.  So the most significant balance also corresponded to the internal node that is the deepest in the node.  So the more that Species 1 increases, the more balances higher up the tree get significantly changed.\n",
    "\n",
    "This isn't a wrong analysis, but it does provide a different perspective on the same dataset.  In short, getting a useful tree topology is important to get interpretatable results."
   ]
  },
  {
   "cell_type": "code",
   "execution_count": null,
   "metadata": {
    "collapsed": true
   },
   "outputs": [],
   "source": []
  }
 ],
 "metadata": {
  "kernelspec": {
   "display_name": "Python 3",
   "language": "python",
   "name": "python3"
  },
  "language_info": {
   "codemirror_mode": {
    "name": "ipython",
    "version": 3
   },
   "file_extension": ".py",
   "mimetype": "text/x-python",
   "name": "python",
   "nbconvert_exporter": "python",
   "pygments_lexer": "ipython3",
   "version": "3.5.2"
  }
 },
 "nbformat": 4,
 "nbformat_minor": 0
}
