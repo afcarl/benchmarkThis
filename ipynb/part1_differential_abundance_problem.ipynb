{
 "cells": [
  {
   "cell_type": "markdown",
   "metadata": {},
   "source": [
    "# The Problem\n",
    "\n",
    "Differential abundance is a technique designed to determine what species are changing between treatments.\n",
    "Suppose that you have two cohorts, a diseased cohort and a healthy cohort.  And you have sampled fecal matter from both cohorts and you want to isolate which bacterial strains have statistically different abundances between sick and healthy cohorts.  \n",
    "\n",
    "Although this seems simple at a first glance, the problem turns out to be quite difficult, mainly due to two properties of the data\n",
    "\n",
    "1. Compositional properties\n",
    "2. Sparsity - due to ecological / biological processes"
   ]
  },
  {
   "cell_type": "markdown",
   "metadata": {},
   "source": [
    "Let's first begin with the urn analogy.  Let a urn below represent the environment that you would like to sample.\n",
    "\n",
    "<img src=\"images/urn.jpg\">\n",
    "\n",
    "Now, your urn has a bunch of balls with different color.  Each ball represents the data type you would like to analyze.  For now, let's refer to each ball being a bacterial individual, and a color representing a species.\n",
    "When you are sampling from the urn, you cannot sample the entire urn.  You can only draw a few balls from the urn.  \n",
    "\n",
    "Because of this, you do not know the total number of balls in the urn, and you only get a representative sample of the urn.  Since you do not know the total number of balls in the urn, the only inferences that can be make on the data are on the proportions of bacterial species.  This ultimately limits the types of inferences that can be made on the environment.  This is the major problem with compositional data.\n",
    "\n",
    "To better understand this problem, consider the following scenario."
   ]
  },
  {
   "cell_type": "code",
   "execution_count": 4,
   "metadata": {
    "collapsed": false
   },
   "outputs": [],
   "source": [
    "import matplotlib.pyplot as plt\n",
    "import numpy as np\n",
    "%matplotlib inline"
   ]
  },
  {
   "cell_type": "markdown",
   "metadata": {},
   "source": [
    "You are collecting two samples, one sample at time point 1 and another sample at time point 2.\n",
    "\n",
    "And you notice the following pattern"
   ]
  },
  {
   "cell_type": "code",
   "execution_count": 8,
   "metadata": {
    "collapsed": false
   },
   "outputs": [
    {
     "data": {
      "text/plain": [
       "<matplotlib.text.Text at 0x10d2fcf98>"
      ]
     },
     "execution_count": 8,
     "metadata": {},
     "output_type": "execute_result"
    },
    {
     "data": {
      "image/png": "[encoded data removed]",
      "text/plain": [
       "<matplotlib.figure.Figure at 0x10d00c550>"
      ]
     },
     "metadata": {},
     "output_type": "display_data"
    }
   ],
   "source": [
    "f, (ax1, ax2) = plt.subplots(1, 2, sharey=True)\n",
    "x1 = np.array([0.1, 0.1, 0.1, 0.1, 0.1, 0.1, 0.1, 0.1, 0.1, 0.1])\n",
    "x2 = np.array([0.2, 0.1, 0.1, 0.1, 0.1, 0.1, 0.1, 0.1, 0.1, 0.1])\n",
    "x2 = x2/x2.sum()\n",
    "ax1.bar(range(10), x1)\n",
    "ax2.bar(range(10), x2)\n",
    "\n",
    "ax1.set_title('Time 1')\n",
    "ax2.set_title('Time 2')\n",
    "\n",
    "ax1.set_xlabel('Species')\n",
    "ax2.set_xlabel('Species')\n",
    "\n",
    "ax1.set_ylabel('% Abundance')\n",
    "ax2.set_ylabel('% Abundance')"
   ]
  },
  {
   "cell_type": "markdown",
   "metadata": {},
   "source": [
    "At first, you may be inclined to say that Species 1 increased drastically.  And that the following scenario is possible."
   ]
  },
  {
   "cell_type": "code",
   "execution_count": 22,
   "metadata": {
    "collapsed": false
   },
   "outputs": [
    {
     "data": {
      "text/plain": [
       "<matplotlib.text.Text at 0x10f28c5f8>"
      ]
     },
     "execution_count": 22,
     "metadata": {},
     "output_type": "execute_result"
    },
    {
     "data": {
      "image/png": "[encoded data removed]",
      "text/plain": [
       "<matplotlib.figure.Figure at 0x10f1423c8>"
      ]
     },
     "metadata": {},
     "output_type": "display_data"
    }
   ],
   "source": [
    "f, (ax1, ax2) = plt.subplots(1, 2, sharey=True)\n",
    "x1 = np.array([10, 10, 10, 10, 10, 10, 10, 10, 10, 10])\n",
    "x2 = np.array([20] + [10, 10, 10, 10, 10, 10, 10, 10, 10])\n",
    "ax1.bar(range(10), x1)\n",
    "ax2.bar(range(10), x2)\n",
    "\n",
    "ax1.set_title('Time 1')\n",
    "ax2.set_title('Time 2')\n",
    "\n",
    "ax1.set_xlabel('Species')\n",
    "ax2.set_xlabel('Species')\n",
    "\n",
    "ax1.set_ylabel('Absolute Abundance')\n",
    "ax2.set_ylabel('Absolute Abundance')"
   ]
  },
  {
   "cell_type": "markdown",
   "metadata": {},
   "source": [
    "Note the `Absolute Abundance` label on the y axis.  This is really important, because the following plots could generate the exact same proportions.  "
   ]
  },
  {
   "cell_type": "code",
   "execution_count": null,
   "metadata": {
    "collapsed": true
   },
   "outputs": [],
   "source": [
    "f, (ax1, ax2) = plt.subplots(1, 2, sharey=True)\n",
    "x1 = np.array([100, 100, 100, 100, 100, 100, 100, 100, 100, 100])\n",
    "x2 = np.array([200, 10, 10, 10, 10, 10, 10, 10, 10, 10])\n",
    "ax1.bar(range(10), x1)\n",
    "ax2.bar(range(10), x2)\n",
    "\n",
    "ax1.set_title('Time 1')\n",
    "ax2.set_title('Time 2')\n",
    "\n",
    "ax1.set_xlabel('Species')\n",
    "ax2.set_xlabel('Species')\n",
    "\n",
    "ax1.set_ylabel('Absolute Abundance')\n",
    "ax2.set_ylabel('Absolute Abundance')"
   ]
  },
  {
   "cell_type": "markdown",
   "metadata": {},
   "source": [
    "This concept is commonly referred to as __compositional equivalence__.  More formally, two compositions $x$, $y$ are equivalent if the following holds\n",
    "\n",
    "$$y = c x$$\n",
    "\n",
    "where $c$ can be any positive constant.  This is the case, because $x$ and $y$ have the exact same proportions when they are normalized to add to 1.\n",
    "\n",
    "\n",
    "Now, consider the following scenario."
   ]
  },
  {
   "cell_type": "code",
   "execution_count": 13,
   "metadata": {
    "collapsed": false
   },
   "outputs": [
    {
     "data": {
      "text/plain": [
       "<matplotlib.text.Text at 0x10d914a90>"
      ]
     },
     "execution_count": 13,
     "metadata": {},
     "output_type": "execute_result"
    },
    {
     "data": {
      "image/png": "[encoded data removed]",
      "text/plain": [
       "<matplotlib.figure.Figure at 0x10d7c47b8>"
      ]
     },
     "metadata": {},
     "output_type": "display_data"
    }
   ],
   "source": [
    "f, (ax1, ax2) = plt.subplots(1, 2, sharey=True)\n",
    "x1 = np.array([10, 10, 10, 10, 10, 10, 10, 10, 10, 10]) \n",
    "x2 = np.array([10] + [5, 5, 5, 5, 5, 5, 5, 5, 5])\n",
    "ax1.bar(range(10), x1)\n",
    "ax2.bar(range(10), x2)\n",
    "\n",
    "ax1.set_title('Time 1')\n",
    "ax2.set_title('Time 2')\n",
    "\n",
    "ax1.set_xlabel('Species')\n",
    "ax2.set_xlabel('Species')\n",
    "\n",
    "ax1.set_ylabel('Absolute Abundance')\n",
    "ax2.set_ylabel('Absolute Abundance')"
   ]
  },
  {
   "cell_type": "markdown",
   "metadata": {},
   "source": [
    "Here, Species 1 did not grow.  Species 1 is exactly the same between the 2 time points, but Species 2-10 all halved.  Its a completely different set of circumstances, but it produced the exact same proportions."
   ]
  },
  {
   "cell_type": "code",
   "execution_count": 14,
   "metadata": {
    "collapsed": false
   },
   "outputs": [
    {
     "data": {
      "text/plain": [
       "<matplotlib.text.Text at 0x10daddf98>"
      ]
     },
     "execution_count": 14,
     "metadata": {},
     "output_type": "execute_result"
    },
    {
     "data": {
      "image/png": "[encoded data removed]",
      "text/plain": [
       "<matplotlib.figure.Figure at 0x10da78128>"
      ]
     },
     "metadata": {},
     "output_type": "display_data"
    }
   ],
   "source": [
    "f, (ax1, ax2) = plt.subplots(1, 2, sharey=True)\n",
    "x1 = np.array([10, 10, 10, 10, 10, 10, 10, 10, 10, 10]) \n",
    "x2 = np.array([10] + [5, 5, 5, 5, 5, 5, 5, 5, 5])\n",
    "x1 = x1/x1.sum()\n",
    "x2 = x2/x2.sum()\n",
    "ax1.bar(range(10), x1)\n",
    "ax2.bar(range(10), x2)\n",
    "\n",
    "ax1.set_title('Time 1')\n",
    "ax2.set_title('Time 2')\n",
    "\n",
    "ax1.set_xlabel('Species')\n",
    "ax2.set_xlabel('Species')\n",
    "\n",
    "ax1.set_ylabel('% Abundance')\n",
    "ax2.set_ylabel('% Abundance')"
   ]
  },
  {
   "cell_type": "markdown",
   "metadata": {},
   "source": [
    "Still not convinced? Here is another scenario that produces the exact proportions."
   ]
  },
  {
   "cell_type": "code",
   "execution_count": 15,
   "metadata": {
    "collapsed": false
   },
   "outputs": [
    {
     "data": {
      "text/plain": [
       "<matplotlib.text.Text at 0x10dd996a0>"
      ]
     },
     "execution_count": 15,
     "metadata": {},
     "output_type": "execute_result"
    },
    {
     "data": {
      "image/png": "[encoded data removed]",
      "text/plain": [
       "<matplotlib.figure.Figure at 0x10dd3a860>"
      ]
     },
     "metadata": {},
     "output_type": "display_data"
    }
   ],
   "source": [
    "f, (ax1, ax2) = plt.subplots(1, 2, sharey=True)\n",
    "x1 = np.array([10, 10, 10, 10, 10, 10, 10, 10, 10, 10]) \n",
    "x2 = np.array([40] + [20, 20, 20, 20, 20, 20, 20, 20, 20, 20])\n",
    "ax1.bar(range(10), x1)\n",
    "ax2.bar(range(10), x2)\n",
    "\n",
    "ax1.set_title('Time 1')\n",
    "ax2.set_title('Time 2')\n",
    "\n",
    "ax1.set_xlabel('Species')\n",
    "ax2.set_xlabel('Species')\n",
    "\n",
    "ax1.set_ylabel('Absolute Abundance')\n",
    "ax2.set_ylabel('Absolute Abundance')"
   ]
  },
  {
   "cell_type": "code",
   "execution_count": 16,
   "metadata": {
    "collapsed": false
   },
   "outputs": [
    {
     "data": {
      "text/plain": [
       "<matplotlib.text.Text at 0x10e179470>"
      ]
     },
     "execution_count": 16,
     "metadata": {},
     "output_type": "execute_result"
    },
    {
     "data": {
      "image/png": "[encoded data removed]",
      "text/plain": [
       "<matplotlib.figure.Figure at 0x10e108908>"
      ]
     },
     "metadata": {},
     "output_type": "display_data"
    }
   ],
   "source": [
    "f, (ax1, ax2) = plt.subplots(1, 2, sharey=True)\n",
    "x1 = np.array([10, 10, 10, 10, 10, 10, 10, 10, 10, 10) \n",
    "x2 = np.array([40, 20, 20, 20, 20, 20, 20, 20, 20, 20])\n",
    "x1 = x1/x1.sum()\n",
    "x2 = x2/x2.sum()\n",
    "ax1.bar(range(10), x1)\n",
    "ax2.bar(range(10), x2)\n",
    "\n",
    "ax1.set_title('Time 1')\n",
    "ax2.set_title('Time 2')\n",
    "\n",
    "ax1.set_xlabel('Species')\n",
    "ax2.set_xlabel('Species')\n",
    "\n",
    "ax1.set_ylabel('% Abundance')\n",
    "ax2.set_ylabel('% Abundance')"
   ]
  },
  {
   "cell_type": "markdown",
   "metadata": {},
   "source": [
    "Beginning to see the pattern?\n",
    "\n",
    "Turns out, there is an infinite number of pairs of environments that give the exact same proportions.\n",
    "Because of this it is impossible to infer the following\n",
    "\n",
    "1. What species grew and declined\n",
    "2. What species changed.\n",
    "\n",
    "The proof for the first point has been outlined by the examples given above.  The second point is a bit more subtle, so we'll provide a more rigorous proof in the next document `differential_abundance_proof.ipynb`\n"
   ]
  },
  {
   "cell_type": "markdown",
   "metadata": {},
   "source": []
  }
 ],
 "metadata": {
  "kernelspec": {
   "display_name": "Python 3",
   "language": "python",
   "name": "python3"
  },
  "language_info": {
   "codemirror_mode": {
    "name": "ipython",
    "version": 3
   },
   "file_extension": ".py",
   "mimetype": "text/x-python",
   "name": "python",
   "nbconvert_exporter": "python",
   "pygments_lexer": "ipython3",
   "version": "3.5.2"
  }
 },
 "nbformat": 4,
 "nbformat_minor": 0
}
